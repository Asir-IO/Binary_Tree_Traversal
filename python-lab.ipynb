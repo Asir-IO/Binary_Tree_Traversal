{
 "cells": [
  {
   "cell_type": "code",
   "execution_count": 39,
   "id": "bb2ef2aa-9a9b-449c-8910-6319a411f73d",
   "metadata": {},
   "outputs": [
    {
     "name": "stdout",
     "output_type": "stream",
     "text": [
      "[5] [12, 13] [7, 14, 2] [17, 23, 27, 3, 8, 11] "
     ]
    }
   ],
   "source": [
    "class Node:\n",
    "    def __init__(self, value):\n",
    "        self.data = value\n",
    "        self.left = None\n",
    "        self.right = None\n",
    "\n",
    "def level_order_rec(root, level, res):\n",
    "    # Base case: If node is null, return\n",
    "    if root is None:\n",
    "        return\n",
    "\n",
    "    # Only create the levels in the left-most nodes' preorder stage\n",
    "    if len(res) == level:\n",
    "        res.append([])\n",
    "        \n",
    "\n",
    "    # Add current node's data to its corresponding level\n",
    "    res[level].append(root.data)\n",
    "\n",
    "    # Recur for left and right children\n",
    "    level_order_rec(root.left, level + 1, res)\n",
    "    level_order_rec(root.right, level + 1, res)\n",
    "\n",
    "# Function to perform level order traversal\n",
    "def level_order(root):\n",
    "    # Stores the result level by level\n",
    "    res = []\n",
    "    level_order_rec(root, 0, res)\n",
    "    return res\n",
    "\n",
    "if __name__ == '__main__':\n",
    "    #      5\n",
    "    #     / \\\n",
    "    #   12   13\n",
    "    #   /  \\    \\\n",
    "    #  7    14    2\n",
    "    # /  \\   /  \\  / \\\n",
    "    #17  23 27  3  8  11\n",
    "\n",
    "    root = Node(5)\n",
    "    root.left = Node(12)\n",
    "    root.right = Node(13)\n",
    "\n",
    "    root.left.left = Node(7)\n",
    "    root.left.right = Node(14)\n",
    "\n",
    "    root.right.right = Node(2)\n",
    "\n",
    "    root.left.left.left = Node(17)\n",
    "    root.left.left.right = Node(23)\n",
    "\n",
    "    root.left.right.left = Node(27)\n",
    "    root.left.right.right = Node(3)\n",
    "\n",
    "    root.right.right.left = Node(8)\n",
    "    root.right.right.right = Node(11)\n",
    "\n",
    "    res = level_order(root)\n",
    "\n",
    "    for level in res:\n",
    "        print(\"[{}] \".format(\", \".join(map(str, level))), end='')\n"
   ]
  },
  {
   "cell_type": "code",
   "execution_count": null,
   "id": "26a3f2c8-76e9-44db-84fd-6994541aeadd",
   "metadata": {},
   "outputs": [],
   "source": []
  },
  {
   "cell_type": "code",
   "execution_count": null,
   "id": "d1254340-79e5-4fd2-9050-16a3c331282a",
   "metadata": {},
   "outputs": [],
   "source": []
  }
 ],
 "metadata": {
  "kernelspec": {
   "display_name": "Python 3 (ipykernel)",
   "language": "python",
   "name": "python3"
  },
  "language_info": {
   "codemirror_mode": {
    "name": "ipython",
    "version": 3
   },
   "file_extension": ".py",
   "mimetype": "text/x-python",
   "name": "python",
   "nbconvert_exporter": "python",
   "pygments_lexer": "ipython3",
   "version": "3.11.9"
  }
 },
 "nbformat": 4,
 "nbformat_minor": 5
}
