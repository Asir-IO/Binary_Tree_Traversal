{
 "cells": [
  {
   "cell_type": "code",
   "execution_count": 1,
   "id": "7969d592-529c-46bc-b136-804f01c484b7",
   "metadata": {},
   "outputs": [],
   "source": [
    "from manim import *\n",
    "from objects import *"
   ]
  },
  {
   "cell_type": "code",
   "execution_count": 11,
   "id": "e5e99448-52bd-4d2f-b49b-ec73d0f5652d",
   "metadata": {},
   "outputs": [
    {
     "data": {
      "text/html": [
       "<pre style=\"white-space:pre;overflow-x:auto;line-height:normal;font-family:Menlo,'DejaVu Sans Mono',consolas,'Courier New',monospace\">Manim Community <span style=\"color: #008000; text-decoration-color: #008000\">v0.19.0</span>\n",
       "\n",
       "</pre>\n"
      ],
      "text/plain": [
       "Manim Community \u001b[32mv0.\u001b[0m\u001b[32m19.0\u001b[0m\n",
       "\n"
      ]
     },
     "metadata": {},
     "output_type": "display_data"
    },
    {
     "name": "stdout",
     "output_type": "stream",
     "text": [
      "to double tags: (pre) 4\n",
      "to double tags: (pre) 2\n",
      "to double tags: (pre) 1\n",
      "to double tags: (null) NumberTag of 3 submobjects\n",
      "to double tags: (in) 1\n",
      "to double tags: (null) NumberTag of 3 submobjects\n",
      "to double tags: (post) 1\n",
      "to double tags: (in) 2\n",
      "to double tags: (pre) 3\n",
      "to double tags: (null) NumberTag of 3 submobjects\n",
      "to double tags: (in) 3\n",
      "to double tags: (null) NumberTag of 3 submobjects\n",
      "to double tags: (post) 3\n",
      "to double tags: (post) 2\n",
      "to double tags: (in) 4\n",
      "to double tags: (pre) 6\n",
      "to double tags: (pre) 5\n",
      "to double tags: (null) NumberTag of 3 submobjects\n",
      "to double tags: (in) 5\n",
      "to double tags: (null) NumberTag of 3 submobjects\n",
      "to double tags: (post) 5\n",
      "to double tags: (in) 6\n",
      "to double tags: (pre) 7\n",
      "to double tags: (null) NumberTag of 3 submobjects\n",
      "to double tags: (in) 7\n",
      "to double tags: (null) NumberTag of 3 submobjects\n",
      "to double tags: (post) 7\n",
      "to double tags: (post) 6\n",
      "to double tags: (post) 4\n",
      "res: [[NumberTag(Circle, Circle, Text('4'))], [NumberTag(Circle, Circle, Text('2')), NumberTag(Circle, Circle, Text('6'))], [NumberTag(Circle, Circle, Text('1')), NumberTag(Circle, Circle, Text('3')), NumberTag(Circle, Circle, Text('5')), NumberTag(Circle, Circle, Text('7'))]]\n",
      "[-6.6031746  3.5        0.       ]\n"
     ]
    },
    {
     "data": {
      "text/html": [
       "<pre style=\"white-space:pre;overflow-x:auto;line-height:normal;font-family:Menlo,'DejaVu Sans Mono',consolas,'Courier New',monospace\"><span style=\"color: #7fbfbf; text-decoration-color: #7fbfbf\">[05/25/25 03:18:16] </span><span style=\"color: #008000; text-decoration-color: #008000\">INFO    </span> Animation <span style=\"color: #008000; text-decoration-color: #008000\">0</span> : Using cached data <span style=\"font-weight: bold\">(</span>hash :                           <a href=\"file://c:\\Users\\Asser\\AppData\\Local\\Programs\\Python\\Python311\\Lib\\site-packages\\manim\\renderer\\cairo_renderer.py\" target=\"_blank\"><span style=\"color: #7f7f7f; text-decoration-color: #7f7f7f\">cairo_renderer.py</span></a><span style=\"color: #7f7f7f; text-decoration-color: #7f7f7f\">:</span><a href=\"file://c:\\Users\\Asser\\AppData\\Local\\Programs\\Python\\Python311\\Lib\\site-packages\\manim\\renderer\\cairo_renderer.py#89\" target=\"_blank\"><span style=\"color: #7f7f7f; text-decoration-color: #7f7f7f\">89</span></a>\n",
       "<span style=\"color: #7fbfbf; text-decoration-color: #7fbfbf\">                    </span>         1185818338_1432596116_3668904844<span style=\"font-weight: bold\">)</span>                                 <span style=\"color: #7f7f7f; text-decoration-color: #7f7f7f\">                    </span>\n",
       "</pre>\n"
      ],
      "text/plain": [
       "\u001b[2;36m[05/25/25 03:18:16]\u001b[0m\u001b[2;36m \u001b[0m\u001b[32mINFO    \u001b[0m Animation \u001b[32m0\u001b[0m : Using cached data \u001b[1m(\u001b[0mhash :                           \u001b]8;id=353823;file://c:\\Users\\Asser\\AppData\\Local\\Programs\\Python\\Python311\\Lib\\site-packages\\manim\\renderer\\cairo_renderer.py\u001b\\\u001b[2mcairo_renderer.py\u001b[0m\u001b]8;;\u001b\\\u001b[2m:\u001b[0m\u001b]8;id=98434;file://c:\\Users\\Asser\\AppData\\Local\\Programs\\Python\\Python311\\Lib\\site-packages\\manim\\renderer\\cairo_renderer.py#89\u001b\\\u001b[2m89\u001b[0m\u001b]8;;\u001b\\\n",
       "\u001b[2;36m                    \u001b[0m         1185818338_1432596116_3668904844\u001b[1m)\u001b[0m                                 \u001b[2m                    \u001b[0m\n"
      ]
     },
     "metadata": {},
     "output_type": "display_data"
    },
    {
     "data": {
      "text/html": [
       "<pre style=\"white-space:pre;overflow-x:auto;line-height:normal;font-family:Menlo,'DejaVu Sans Mono',consolas,'Courier New',monospace\"><span style=\"color: #7fbfbf; text-decoration-color: #7fbfbf\">                    </span><span style=\"color: #008000; text-decoration-color: #008000\">INFO    </span> Combining to Movie file.                                      <a href=\"file://c:\\Users\\Asser\\AppData\\Local\\Programs\\Python\\Python311\\Lib\\site-packages\\manim\\scene\\scene_file_writer.py\" target=\"_blank\"><span style=\"color: #7f7f7f; text-decoration-color: #7f7f7f\">scene_file_writer.py</span></a><span style=\"color: #7f7f7f; text-decoration-color: #7f7f7f\">:</span><a href=\"file://c:\\Users\\Asser\\AppData\\Local\\Programs\\Python\\Python311\\Lib\\site-packages\\manim\\scene\\scene_file_writer.py#739\" target=\"_blank\"><span style=\"color: #7f7f7f; text-decoration-color: #7f7f7f\">739</span></a>\n",
       "</pre>\n"
      ],
      "text/plain": [
       "\u001b[2;36m                   \u001b[0m\u001b[2;36m \u001b[0m\u001b[32mINFO    \u001b[0m Combining to Movie file.                                      \u001b]8;id=909069;file://c:\\Users\\Asser\\AppData\\Local\\Programs\\Python\\Python311\\Lib\\site-packages\\manim\\scene\\scene_file_writer.py\u001b\\\u001b[2mscene_file_writer.py\u001b[0m\u001b]8;;\u001b\\\u001b[2m:\u001b[0m\u001b]8;id=936834;file://c:\\Users\\Asser\\AppData\\Local\\Programs\\Python\\Python311\\Lib\\site-packages\\manim\\scene\\scene_file_writer.py#739\u001b\\\u001b[2m739\u001b[0m\u001b]8;;\u001b\\\n"
      ]
     },
     "metadata": {},
     "output_type": "display_data"
    },
    {
     "data": {
      "text/html": [
       "<pre style=\"white-space:pre;overflow-x:auto;line-height:normal;font-family:Menlo,'DejaVu Sans Mono',consolas,'Courier New',monospace\"><span style=\"color: #7fbfbf; text-decoration-color: #7fbfbf\">                    </span><span style=\"color: #008000; text-decoration-color: #008000\">INFO    </span>                                                               <a href=\"file://c:\\Users\\Asser\\AppData\\Local\\Programs\\Python\\Python311\\Lib\\site-packages\\manim\\scene\\scene_file_writer.py\" target=\"_blank\"><span style=\"color: #7f7f7f; text-decoration-color: #7f7f7f\">scene_file_writer.py</span></a><span style=\"color: #7f7f7f; text-decoration-color: #7f7f7f\">:</span><a href=\"file://c:\\Users\\Asser\\AppData\\Local\\Programs\\Python\\Python311\\Lib\\site-packages\\manim\\scene\\scene_file_writer.py#886\" target=\"_blank\"><span style=\"color: #7f7f7f; text-decoration-color: #7f7f7f\">886</span></a>\n",
       "<span style=\"color: #7fbfbf; text-decoration-color: #7fbfbf\">                    </span>         <span style=\"color: #808000; text-decoration-color: #808000; font-weight: bold\">File</span> ready at <span style=\"color: #008000; text-decoration-color: #008000\">'C:\\Users\\Asser\\Documents\\Coding\\VS </span>            <span style=\"color: #7f7f7f; text-decoration-color: #7f7f7f\">                        </span>\n",
       "<span style=\"color: #7fbfbf; text-decoration-color: #7fbfbf\">                    </span>         <span style=\"color: #008000; text-decoration-color: #008000\">CODE\\Manim\\BinaryTree\\media\\videos\\BinaryTree\\480p15\\Test.mp4</span> <span style=\"color: #7f7f7f; text-decoration-color: #7f7f7f\">                        </span>\n",
       "<span style=\"color: #7fbfbf; text-decoration-color: #7fbfbf\">                    </span>         <span style=\"color: #008000; text-decoration-color: #008000\">'</span>                                                             <span style=\"color: #7f7f7f; text-decoration-color: #7f7f7f\">                        </span>\n",
       "<span style=\"color: #7fbfbf; text-decoration-color: #7fbfbf\">                    </span>                                                                       <span style=\"color: #7f7f7f; text-decoration-color: #7f7f7f\">                        </span>\n",
       "</pre>\n"
      ],
      "text/plain": [
       "\u001b[2;36m                   \u001b[0m\u001b[2;36m \u001b[0m\u001b[32mINFO    \u001b[0m                                                               \u001b]8;id=351787;file://c:\\Users\\Asser\\AppData\\Local\\Programs\\Python\\Python311\\Lib\\site-packages\\manim\\scene\\scene_file_writer.py\u001b\\\u001b[2mscene_file_writer.py\u001b[0m\u001b]8;;\u001b\\\u001b[2m:\u001b[0m\u001b]8;id=58254;file://c:\\Users\\Asser\\AppData\\Local\\Programs\\Python\\Python311\\Lib\\site-packages\\manim\\scene\\scene_file_writer.py#886\u001b\\\u001b[2m886\u001b[0m\u001b]8;;\u001b\\\n",
       "\u001b[2;36m                    \u001b[0m         \u001b[1;33mFile\u001b[0m ready at \u001b[32m'C:\\Users\\Asser\\Documents\\Coding\\VS \u001b[0m            \u001b[2m                        \u001b[0m\n",
       "\u001b[2;36m                    \u001b[0m         \u001b[32mCODE\\Manim\\BinaryTree\\media\\videos\\BinaryTree\\480p15\\Test.mp4\u001b[0m \u001b[2m                        \u001b[0m\n",
       "\u001b[2;36m                    \u001b[0m         \u001b[32m'\u001b[0m                                                             \u001b[2m                        \u001b[0m\n",
       "\u001b[2;36m                    \u001b[0m                                                                       \u001b[2m                        \u001b[0m\n"
      ]
     },
     "metadata": {},
     "output_type": "display_data"
    },
    {
     "data": {
      "text/html": [
       "<pre style=\"white-space:pre;overflow-x:auto;line-height:normal;font-family:Menlo,'DejaVu Sans Mono',consolas,'Courier New',monospace\"><span style=\"color: #7fbfbf; text-decoration-color: #7fbfbf\">                    </span><span style=\"color: #008000; text-decoration-color: #008000\">INFO    </span> <span style=\"color: #808000; text-decoration-color: #808000; font-weight: bold\">Rendered</span> Test                                                             <a href=\"file://c:\\Users\\Asser\\AppData\\Local\\Programs\\Python\\Python311\\Lib\\site-packages\\manim\\scene\\scene.py\" target=\"_blank\"><span style=\"color: #7f7f7f; text-decoration-color: #7f7f7f\">scene.py</span></a><span style=\"color: #7f7f7f; text-decoration-color: #7f7f7f\">:</span><a href=\"file://c:\\Users\\Asser\\AppData\\Local\\Programs\\Python\\Python311\\Lib\\site-packages\\manim\\scene\\scene.py#255\" target=\"_blank\"><span style=\"color: #7f7f7f; text-decoration-color: #7f7f7f\">255</span></a>\n",
       "<span style=\"color: #7fbfbf; text-decoration-color: #7fbfbf\">                    </span>         <span style=\"color: #808000; text-decoration-color: #808000; font-weight: bold\">Played</span> <span style=\"color: #008000; text-decoration-color: #008000\">1</span> <span style=\"color: #808000; text-decoration-color: #808000; font-weight: bold\">animations</span>                                                       <span style=\"color: #7f7f7f; text-decoration-color: #7f7f7f\">            </span>\n",
       "</pre>\n"
      ],
      "text/plain": [
       "\u001b[2;36m                   \u001b[0m\u001b[2;36m \u001b[0m\u001b[32mINFO    \u001b[0m \u001b[1;33mRendered\u001b[0m Test                                                             \u001b]8;id=842539;file://c:\\Users\\Asser\\AppData\\Local\\Programs\\Python\\Python311\\Lib\\site-packages\\manim\\scene\\scene.py\u001b\\\u001b[2mscene.py\u001b[0m\u001b]8;;\u001b\\\u001b[2m:\u001b[0m\u001b]8;id=32581;file://c:\\Users\\Asser\\AppData\\Local\\Programs\\Python\\Python311\\Lib\\site-packages\\manim\\scene\\scene.py#255\u001b\\\u001b[2m255\u001b[0m\u001b]8;;\u001b\\\n",
       "\u001b[2;36m                    \u001b[0m         \u001b[1;33mPlayed\u001b[0m \u001b[32m1\u001b[0m \u001b[1;33manimations\u001b[0m                                                       \u001b[2m            \u001b[0m\n"
      ]
     },
     "metadata": {},
     "output_type": "display_data"
    },
    {
     "data": {
      "text/html": [
       "<video src=\"media\\jupyter\\Test@2025-05-25@03-18-16.mp4\" controls autoplay loop style=\"max-width: 60%;\"  >\n",
       "      Your browser does not support the <code>video</code> element.\n",
       "    </video>"
      ],
      "text/plain": [
       "<IPython.core.display.Video object>"
      ]
     },
     "metadata": {},
     "output_type": "display_data"
    }
   ],
   "source": [
    "%%manim -ql Test\n",
    "from processing import *\n",
    "from animations import *\n",
    "\n",
    "dots_color=[RED, ManimColor(\"#2f9e44\"), ManimColor(\"#228be6\"), ManimColor(\"#a5d8ff\"), GREY]\n",
    "lines_color = [YELLOW, ORANGE, PURPLE]\n",
    "\n",
    "class Test(Scene):\n",
    "    def construct(self):\n",
    "        BTree = BinaryTree(root=buildTree(dots_color, 7), x_start=0, x_distance=3, y_start=3 ,y_distance=1, dots_color=dots_color, lines_color=lines_color)\n",
    "        BTree.build_structure(BTree.root)\n",
    "        BTree.scale_all(0.5)\n",
    "        BTree.get_level_ordered_tags()\n",
    "        tags = BTree.level_ordered_tags\n",
    "        spread_in_grid(tags)\n",
    "        self.add(tags)\n",
    "        print(tags[0].get_center())\n",
    "        self.wait(1)\n"
   ]
  },
  {
   "cell_type": "code",
   "execution_count": null,
   "id": "91b1aa26-7fe0-49d2-b96a-ef473a98caf4",
   "metadata": {},
   "outputs": [],
   "source": []
  }
 ],
 "metadata": {
  "kernelspec": {
   "display_name": "Python 3",
   "language": "python",
   "name": "python3"
  },
  "language_info": {
   "codemirror_mode": {
    "name": "ipython",
    "version": 3
   },
   "file_extension": ".py",
   "mimetype": "text/x-python",
   "name": "python",
   "nbconvert_exporter": "python",
   "pygments_lexer": "ipython3",
   "version": "3.11.9"
  }
 },
 "nbformat": 4,
 "nbformat_minor": 5
}
